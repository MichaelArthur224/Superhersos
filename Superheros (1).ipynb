{
 "cells": [
  {
   "cell_type": "code",
   "execution_count": 1,
   "id": "5ba3fb05",
   "metadata": {},
   "outputs": [],
   "source": [
    "import pandas as pd\n",
    "import numpy as np"
   ]
  },
  {
   "cell_type": "markdown",
   "id": "81f8c8a3",
   "metadata": {},
   "source": [
    "# SuperHero Info"
   ]
  },
  {
   "cell_type": "code",
   "execution_count": 53,
   "id": "48ebe347",
   "metadata": {
    "scrolled": true
   },
   "outputs": [
    {
     "data": {
      "text/html": [
       "<div>\n",
       "<style scoped>\n",
       "    .dataframe tbody tr th:only-of-type {\n",
       "        vertical-align: middle;\n",
       "    }\n",
       "\n",
       "    .dataframe tbody tr th {\n",
       "        vertical-align: top;\n",
       "    }\n",
       "\n",
       "    .dataframe thead th {\n",
       "        text-align: right;\n",
       "    }\n",
       "</style>\n",
       "<table border=\"1\" class=\"dataframe\">\n",
       "  <thead>\n",
       "    <tr style=\"text-align: right;\">\n",
       "      <th></th>\n",
       "      <th>Hero|Publisher</th>\n",
       "      <th>Gender</th>\n",
       "      <th>Race</th>\n",
       "      <th>Alignment</th>\n",
       "      <th>Hair color</th>\n",
       "      <th>Eye color</th>\n",
       "      <th>Skin color</th>\n",
       "      <th>Measurements</th>\n",
       "    </tr>\n",
       "  </thead>\n",
       "  <tbody>\n",
       "    <tr>\n",
       "      <th>0</th>\n",
       "      <td>A-Bomb|Marvel Comics</td>\n",
       "      <td>Male</td>\n",
       "      <td>Human</td>\n",
       "      <td>good</td>\n",
       "      <td>No Hair</td>\n",
       "      <td>yellow</td>\n",
       "      <td>Unknown</td>\n",
       "      <td>{'Height': '203.0 cm', 'Weight': '441.0 kg'}</td>\n",
       "    </tr>\n",
       "    <tr>\n",
       "      <th>1</th>\n",
       "      <td>Abe Sapien|Dark Horse Comics</td>\n",
       "      <td>Male</td>\n",
       "      <td>Icthyo Sapien</td>\n",
       "      <td>good</td>\n",
       "      <td>No Hair</td>\n",
       "      <td>blue</td>\n",
       "      <td>blue</td>\n",
       "      <td>{'Height': '191.0 cm', 'Weight': '65.0 kg'}</td>\n",
       "    </tr>\n",
       "    <tr>\n",
       "      <th>2</th>\n",
       "      <td>Abin Sur|DC Comics</td>\n",
       "      <td>Male</td>\n",
       "      <td>Ungaran</td>\n",
       "      <td>good</td>\n",
       "      <td>No Hair</td>\n",
       "      <td>blue</td>\n",
       "      <td>red</td>\n",
       "      <td>{'Height': '185.0 cm', 'Weight': '90.0 kg'}</td>\n",
       "    </tr>\n",
       "    <tr>\n",
       "      <th>3</th>\n",
       "      <td>Abomination|Marvel Comics</td>\n",
       "      <td>Male</td>\n",
       "      <td>Human / Radiation</td>\n",
       "      <td>bad</td>\n",
       "      <td>No Hair</td>\n",
       "      <td>green</td>\n",
       "      <td>Unknown</td>\n",
       "      <td>{'Height': '203.0 cm', 'Weight': '441.0 kg'}</td>\n",
       "    </tr>\n",
       "    <tr>\n",
       "      <th>4</th>\n",
       "      <td>Absorbing Man|Marvel Comics</td>\n",
       "      <td>Male</td>\n",
       "      <td>Human</td>\n",
       "      <td>bad</td>\n",
       "      <td>No Hair</td>\n",
       "      <td>blue</td>\n",
       "      <td>Unknown</td>\n",
       "      <td>{'Height': '193.0 cm', 'Weight': '122.0 kg'}</td>\n",
       "    </tr>\n",
       "  </tbody>\n",
       "</table>\n",
       "</div>"
      ],
      "text/plain": [
       "                 Hero|Publisher Gender               Race Alignment  \\\n",
       "0          A-Bomb|Marvel Comics   Male              Human      good   \n",
       "1  Abe Sapien|Dark Horse Comics   Male      Icthyo Sapien      good   \n",
       "2            Abin Sur|DC Comics   Male            Ungaran      good   \n",
       "3     Abomination|Marvel Comics   Male  Human / Radiation       bad   \n",
       "4   Absorbing Man|Marvel Comics   Male              Human       bad   \n",
       "\n",
       "  Hair color Eye color Skin color  \\\n",
       "0    No Hair    yellow    Unknown   \n",
       "1    No Hair      blue       blue   \n",
       "2    No Hair      blue        red   \n",
       "3    No Hair     green    Unknown   \n",
       "4    No Hair      blue    Unknown   \n",
       "\n",
       "                                   Measurements  \n",
       "0  {'Height': '203.0 cm', 'Weight': '441.0 kg'}  \n",
       "1   {'Height': '191.0 cm', 'Weight': '65.0 kg'}  \n",
       "2   {'Height': '185.0 cm', 'Weight': '90.0 kg'}  \n",
       "3  {'Height': '203.0 cm', 'Weight': '441.0 kg'}  \n",
       "4  {'Height': '193.0 cm', 'Weight': '122.0 kg'}  "
      ]
     },
     "execution_count": 53,
     "metadata": {},
     "output_type": "execute_result"
    }
   ],
   "source": [
    "super_info = pd.read_csv(r'C:\\Users\\Michael\\Downloads\\superhero_info - superhero_info.csv')\n",
    "df1 = super_info.copy()\n",
    "super_info.head()"
   ]
  },
  {
   "cell_type": "code",
   "execution_count": 54,
   "id": "552b064b",
   "metadata": {},
   "outputs": [
    {
     "data": {
      "text/html": [
       "<div>\n",
       "<style scoped>\n",
       "    .dataframe tbody tr th:only-of-type {\n",
       "        vertical-align: middle;\n",
       "    }\n",
       "\n",
       "    .dataframe tbody tr th {\n",
       "        vertical-align: top;\n",
       "    }\n",
       "\n",
       "    .dataframe thead th {\n",
       "        text-align: right;\n",
       "    }\n",
       "</style>\n",
       "<table border=\"1\" class=\"dataframe\">\n",
       "  <thead>\n",
       "    <tr style=\"text-align: right;\">\n",
       "      <th></th>\n",
       "      <th>Gender</th>\n",
       "      <th>Race</th>\n",
       "      <th>Alignment</th>\n",
       "      <th>Hair color</th>\n",
       "      <th>Eye color</th>\n",
       "      <th>Skin color</th>\n",
       "      <th>Measurements</th>\n",
       "      <th>hero_names</th>\n",
       "      <th>publisher</th>\n",
       "    </tr>\n",
       "  </thead>\n",
       "  <tbody>\n",
       "    <tr>\n",
       "      <th>0</th>\n",
       "      <td>Male</td>\n",
       "      <td>Human</td>\n",
       "      <td>good</td>\n",
       "      <td>No Hair</td>\n",
       "      <td>yellow</td>\n",
       "      <td>Unknown</td>\n",
       "      <td>{'Height': '203.0 cm', 'Weight': '441.0 kg'}</td>\n",
       "      <td>A-Bomb</td>\n",
       "      <td>Marvel Comics</td>\n",
       "    </tr>\n",
       "    <tr>\n",
       "      <th>1</th>\n",
       "      <td>Male</td>\n",
       "      <td>Icthyo Sapien</td>\n",
       "      <td>good</td>\n",
       "      <td>No Hair</td>\n",
       "      <td>blue</td>\n",
       "      <td>blue</td>\n",
       "      <td>{'Height': '191.0 cm', 'Weight': '65.0 kg'}</td>\n",
       "      <td>Abe Sapien</td>\n",
       "      <td>Dark Horse Comics</td>\n",
       "    </tr>\n",
       "    <tr>\n",
       "      <th>2</th>\n",
       "      <td>Male</td>\n",
       "      <td>Ungaran</td>\n",
       "      <td>good</td>\n",
       "      <td>No Hair</td>\n",
       "      <td>blue</td>\n",
       "      <td>red</td>\n",
       "      <td>{'Height': '185.0 cm', 'Weight': '90.0 kg'}</td>\n",
       "      <td>Abin Sur</td>\n",
       "      <td>DC Comics</td>\n",
       "    </tr>\n",
       "    <tr>\n",
       "      <th>3</th>\n",
       "      <td>Male</td>\n",
       "      <td>Human / Radiation</td>\n",
       "      <td>bad</td>\n",
       "      <td>No Hair</td>\n",
       "      <td>green</td>\n",
       "      <td>Unknown</td>\n",
       "      <td>{'Height': '203.0 cm', 'Weight': '441.0 kg'}</td>\n",
       "      <td>Abomination</td>\n",
       "      <td>Marvel Comics</td>\n",
       "    </tr>\n",
       "    <tr>\n",
       "      <th>4</th>\n",
       "      <td>Male</td>\n",
       "      <td>Human</td>\n",
       "      <td>bad</td>\n",
       "      <td>No Hair</td>\n",
       "      <td>blue</td>\n",
       "      <td>Unknown</td>\n",
       "      <td>{'Height': '193.0 cm', 'Weight': '122.0 kg'}</td>\n",
       "      <td>Absorbing Man</td>\n",
       "      <td>Marvel Comics</td>\n",
       "    </tr>\n",
       "  </tbody>\n",
       "</table>\n",
       "</div>"
      ],
      "text/plain": [
       "  Gender               Race Alignment Hair color Eye color Skin color  \\\n",
       "0   Male              Human      good    No Hair    yellow    Unknown   \n",
       "1   Male      Icthyo Sapien      good    No Hair      blue       blue   \n",
       "2   Male            Ungaran      good    No Hair      blue        red   \n",
       "3   Male  Human / Radiation       bad    No Hair     green    Unknown   \n",
       "4   Male              Human       bad    No Hair      blue    Unknown   \n",
       "\n",
       "                                   Measurements     hero_names  \\\n",
       "0  {'Height': '203.0 cm', 'Weight': '441.0 kg'}         A-Bomb   \n",
       "1   {'Height': '191.0 cm', 'Weight': '65.0 kg'}     Abe Sapien   \n",
       "2   {'Height': '185.0 cm', 'Weight': '90.0 kg'}       Abin Sur   \n",
       "3  {'Height': '203.0 cm', 'Weight': '441.0 kg'}    Abomination   \n",
       "4  {'Height': '193.0 cm', 'Weight': '122.0 kg'}  Absorbing Man   \n",
       "\n",
       "           publisher  \n",
       "0      Marvel Comics  \n",
       "1  Dark Horse Comics  \n",
       "2          DC Comics  \n",
       "3      Marvel Comics  \n",
       "4      Marvel Comics  "
      ]
     },
     "execution_count": 54,
     "metadata": {},
     "output_type": "execute_result"
    }
   ],
   "source": [
    "super_info[['hero_names','publisher']] = super_info['Hero|Publisher'].str.split('|', expand=True)\n",
    "super_info = super_info.drop(columns = 'Hero|Publisher')\n",
    "super_info.head()"
   ]
  },
  {
   "cell_type": "code",
   "execution_count": 55,
   "id": "d4d8ae6e",
   "metadata": {
    "scrolled": false
   },
   "outputs": [
    {
     "name": "stdout",
     "output_type": "stream",
     "text": [
      "<class 'str'>\n"
     ]
    },
    {
     "data": {
      "text/plain": [
       "\"{'Height': '203.0 cm', 'Weight': '441.0 kg'}\""
      ]
     },
     "execution_count": 55,
     "metadata": {},
     "output_type": "execute_result"
    }
   ],
   "source": [
    "ms = super_info.loc[0,\"Measurements\"]\n",
    "print(type(ms))\n",
    "ms"
   ]
  },
  {
   "cell_type": "code",
   "execution_count": 56,
   "id": "7857598e",
   "metadata": {},
   "outputs": [
    {
     "data": {
      "text/plain": [
       "'{\"Height\": \"203.0 cm\", \"Weight\": \"441.0 kg\"}'"
      ]
     },
     "execution_count": 56,
     "metadata": {},
     "output_type": "execute_result"
    }
   ],
   "source": [
    "ms = ms.replace(\"'\",'\"')\n",
    "ms"
   ]
  },
  {
   "cell_type": "code",
   "execution_count": 57,
   "id": "d9c11128",
   "metadata": {
    "scrolled": true
   },
   "outputs": [
    {
     "name": "stdout",
     "output_type": "stream",
     "text": [
      "<class 'dict'>\n"
     ]
    },
    {
     "data": {
      "text/plain": [
       "{'Height': '203.0 cm', 'Weight': '441.0 kg'}"
      ]
     },
     "execution_count": 57,
     "metadata": {},
     "output_type": "execute_result"
    }
   ],
   "source": [
    "import json\n",
    "ms_fixed = json.loads(ms)\n",
    "print(type(ms_fixed))\n",
    "ms_fixed"
   ]
  },
  {
   "cell_type": "code",
   "execution_count": 58,
   "id": "9ee70c89",
   "metadata": {
    "scrolled": true
   },
   "outputs": [
    {
     "data": {
      "text/plain": [
       "0    {'Height': '203.0 cm', 'Weight': '441.0 kg'}\n",
       "1     {'Height': '191.0 cm', 'Weight': '65.0 kg'}\n",
       "2     {'Height': '185.0 cm', 'Weight': '90.0 kg'}\n",
       "3    {'Height': '203.0 cm', 'Weight': '441.0 kg'}\n",
       "4    {'Height': '193.0 cm', 'Weight': '122.0 kg'}\n",
       "Name: Measurements, dtype: object"
      ]
     },
     "execution_count": 58,
     "metadata": {},
     "output_type": "execute_result"
    }
   ],
   "source": [
    "super_info['Measurements'] = super_info['Measurements'].str.replace(\"'\",'\"')\n",
    "super_info['Measurements'] = super_info['Measurements'].apply(json.loads)\n",
    "super_info['Measurements'].head()"
   ]
  },
  {
   "cell_type": "code",
   "execution_count": 59,
   "id": "7b126ccc",
   "metadata": {},
   "outputs": [],
   "source": [
    "height_weight = super_info['Measurements'].apply(pd.Series)"
   ]
  },
  {
   "cell_type": "code",
   "execution_count": 60,
   "id": "30a14787",
   "metadata": {
    "scrolled": true
   },
   "outputs": [
    {
     "data": {
      "text/html": [
       "<div>\n",
       "<style scoped>\n",
       "    .dataframe tbody tr th:only-of-type {\n",
       "        vertical-align: middle;\n",
       "    }\n",
       "\n",
       "    .dataframe tbody tr th {\n",
       "        vertical-align: top;\n",
       "    }\n",
       "\n",
       "    .dataframe thead th {\n",
       "        text-align: right;\n",
       "    }\n",
       "</style>\n",
       "<table border=\"1\" class=\"dataframe\">\n",
       "  <thead>\n",
       "    <tr style=\"text-align: right;\">\n",
       "      <th></th>\n",
       "      <th>Gender</th>\n",
       "      <th>Race</th>\n",
       "      <th>Alignment</th>\n",
       "      <th>Hair color</th>\n",
       "      <th>Eye color</th>\n",
       "      <th>Skin color</th>\n",
       "      <th>Measurements</th>\n",
       "      <th>hero_names</th>\n",
       "      <th>publisher</th>\n",
       "      <th>Height</th>\n",
       "      <th>Weight</th>\n",
       "    </tr>\n",
       "  </thead>\n",
       "  <tbody>\n",
       "    <tr>\n",
       "      <th>0</th>\n",
       "      <td>Male</td>\n",
       "      <td>Human</td>\n",
       "      <td>good</td>\n",
       "      <td>No Hair</td>\n",
       "      <td>yellow</td>\n",
       "      <td>Unknown</td>\n",
       "      <td>{'Height': '203.0 cm', 'Weight': '441.0 kg'}</td>\n",
       "      <td>A-Bomb</td>\n",
       "      <td>Marvel Comics</td>\n",
       "      <td>203.0 cm</td>\n",
       "      <td>441.0 kg</td>\n",
       "    </tr>\n",
       "    <tr>\n",
       "      <th>1</th>\n",
       "      <td>Male</td>\n",
       "      <td>Icthyo Sapien</td>\n",
       "      <td>good</td>\n",
       "      <td>No Hair</td>\n",
       "      <td>blue</td>\n",
       "      <td>blue</td>\n",
       "      <td>{'Height': '191.0 cm', 'Weight': '65.0 kg'}</td>\n",
       "      <td>Abe Sapien</td>\n",
       "      <td>Dark Horse Comics</td>\n",
       "      <td>191.0 cm</td>\n",
       "      <td>65.0 kg</td>\n",
       "    </tr>\n",
       "    <tr>\n",
       "      <th>2</th>\n",
       "      <td>Male</td>\n",
       "      <td>Ungaran</td>\n",
       "      <td>good</td>\n",
       "      <td>No Hair</td>\n",
       "      <td>blue</td>\n",
       "      <td>red</td>\n",
       "      <td>{'Height': '185.0 cm', 'Weight': '90.0 kg'}</td>\n",
       "      <td>Abin Sur</td>\n",
       "      <td>DC Comics</td>\n",
       "      <td>185.0 cm</td>\n",
       "      <td>90.0 kg</td>\n",
       "    </tr>\n",
       "    <tr>\n",
       "      <th>3</th>\n",
       "      <td>Male</td>\n",
       "      <td>Human / Radiation</td>\n",
       "      <td>bad</td>\n",
       "      <td>No Hair</td>\n",
       "      <td>green</td>\n",
       "      <td>Unknown</td>\n",
       "      <td>{'Height': '203.0 cm', 'Weight': '441.0 kg'}</td>\n",
       "      <td>Abomination</td>\n",
       "      <td>Marvel Comics</td>\n",
       "      <td>203.0 cm</td>\n",
       "      <td>441.0 kg</td>\n",
       "    </tr>\n",
       "    <tr>\n",
       "      <th>4</th>\n",
       "      <td>Male</td>\n",
       "      <td>Human</td>\n",
       "      <td>bad</td>\n",
       "      <td>No Hair</td>\n",
       "      <td>blue</td>\n",
       "      <td>Unknown</td>\n",
       "      <td>{'Height': '193.0 cm', 'Weight': '122.0 kg'}</td>\n",
       "      <td>Absorbing Man</td>\n",
       "      <td>Marvel Comics</td>\n",
       "      <td>193.0 cm</td>\n",
       "      <td>122.0 kg</td>\n",
       "    </tr>\n",
       "  </tbody>\n",
       "</table>\n",
       "</div>"
      ],
      "text/plain": [
       "  Gender               Race Alignment Hair color Eye color Skin color  \\\n",
       "0   Male              Human      good    No Hair    yellow    Unknown   \n",
       "1   Male      Icthyo Sapien      good    No Hair      blue       blue   \n",
       "2   Male            Ungaran      good    No Hair      blue        red   \n",
       "3   Male  Human / Radiation       bad    No Hair     green    Unknown   \n",
       "4   Male              Human       bad    No Hair      blue    Unknown   \n",
       "\n",
       "                                   Measurements     hero_names  \\\n",
       "0  {'Height': '203.0 cm', 'Weight': '441.0 kg'}         A-Bomb   \n",
       "1   {'Height': '191.0 cm', 'Weight': '65.0 kg'}     Abe Sapien   \n",
       "2   {'Height': '185.0 cm', 'Weight': '90.0 kg'}       Abin Sur   \n",
       "3  {'Height': '203.0 cm', 'Weight': '441.0 kg'}    Abomination   \n",
       "4  {'Height': '193.0 cm', 'Weight': '122.0 kg'}  Absorbing Man   \n",
       "\n",
       "           publisher    Height    Weight  \n",
       "0      Marvel Comics  203.0 cm  441.0 kg  \n",
       "1  Dark Horse Comics  191.0 cm   65.0 kg  \n",
       "2          DC Comics  185.0 cm   90.0 kg  \n",
       "3      Marvel Comics  203.0 cm  441.0 kg  \n",
       "4      Marvel Comics  193.0 cm  122.0 kg  "
      ]
     },
     "execution_count": 60,
     "metadata": {},
     "output_type": "execute_result"
    }
   ],
   "source": [
    "super_info = pd.concat((super_info, height_weight), axis = 1)\n",
    "super_info.head()"
   ]
  },
  {
   "cell_type": "code",
   "execution_count": 61,
   "id": "48d07fda",
   "metadata": {},
   "outputs": [
    {
     "data": {
      "text/html": [
       "<div>\n",
       "<style scoped>\n",
       "    .dataframe tbody tr th:only-of-type {\n",
       "        vertical-align: middle;\n",
       "    }\n",
       "\n",
       "    .dataframe tbody tr th {\n",
       "        vertical-align: top;\n",
       "    }\n",
       "\n",
       "    .dataframe thead th {\n",
       "        text-align: right;\n",
       "    }\n",
       "</style>\n",
       "<table border=\"1\" class=\"dataframe\">\n",
       "  <thead>\n",
       "    <tr style=\"text-align: right;\">\n",
       "      <th></th>\n",
       "      <th>Gender</th>\n",
       "      <th>Race</th>\n",
       "      <th>Alignment</th>\n",
       "      <th>Hair color</th>\n",
       "      <th>Eye color</th>\n",
       "      <th>Skin color</th>\n",
       "      <th>hero_names</th>\n",
       "      <th>publisher</th>\n",
       "      <th>Height</th>\n",
       "      <th>Weight</th>\n",
       "    </tr>\n",
       "  </thead>\n",
       "  <tbody>\n",
       "    <tr>\n",
       "      <th>0</th>\n",
       "      <td>Male</td>\n",
       "      <td>Human</td>\n",
       "      <td>good</td>\n",
       "      <td>No Hair</td>\n",
       "      <td>yellow</td>\n",
       "      <td>Unknown</td>\n",
       "      <td>A-Bomb</td>\n",
       "      <td>Marvel Comics</td>\n",
       "      <td>203.0 cm</td>\n",
       "      <td>441.0 kg</td>\n",
       "    </tr>\n",
       "    <tr>\n",
       "      <th>1</th>\n",
       "      <td>Male</td>\n",
       "      <td>Icthyo Sapien</td>\n",
       "      <td>good</td>\n",
       "      <td>No Hair</td>\n",
       "      <td>blue</td>\n",
       "      <td>blue</td>\n",
       "      <td>Abe Sapien</td>\n",
       "      <td>Dark Horse Comics</td>\n",
       "      <td>191.0 cm</td>\n",
       "      <td>65.0 kg</td>\n",
       "    </tr>\n",
       "    <tr>\n",
       "      <th>2</th>\n",
       "      <td>Male</td>\n",
       "      <td>Ungaran</td>\n",
       "      <td>good</td>\n",
       "      <td>No Hair</td>\n",
       "      <td>blue</td>\n",
       "      <td>red</td>\n",
       "      <td>Abin Sur</td>\n",
       "      <td>DC Comics</td>\n",
       "      <td>185.0 cm</td>\n",
       "      <td>90.0 kg</td>\n",
       "    </tr>\n",
       "    <tr>\n",
       "      <th>3</th>\n",
       "      <td>Male</td>\n",
       "      <td>Human / Radiation</td>\n",
       "      <td>bad</td>\n",
       "      <td>No Hair</td>\n",
       "      <td>green</td>\n",
       "      <td>Unknown</td>\n",
       "      <td>Abomination</td>\n",
       "      <td>Marvel Comics</td>\n",
       "      <td>203.0 cm</td>\n",
       "      <td>441.0 kg</td>\n",
       "    </tr>\n",
       "    <tr>\n",
       "      <th>4</th>\n",
       "      <td>Male</td>\n",
       "      <td>Human</td>\n",
       "      <td>bad</td>\n",
       "      <td>No Hair</td>\n",
       "      <td>blue</td>\n",
       "      <td>Unknown</td>\n",
       "      <td>Absorbing Man</td>\n",
       "      <td>Marvel Comics</td>\n",
       "      <td>193.0 cm</td>\n",
       "      <td>122.0 kg</td>\n",
       "    </tr>\n",
       "  </tbody>\n",
       "</table>\n",
       "</div>"
      ],
      "text/plain": [
       "  Gender               Race Alignment Hair color Eye color Skin color  \\\n",
       "0   Male              Human      good    No Hair    yellow    Unknown   \n",
       "1   Male      Icthyo Sapien      good    No Hair      blue       blue   \n",
       "2   Male            Ungaran      good    No Hair      blue        red   \n",
       "3   Male  Human / Radiation       bad    No Hair     green    Unknown   \n",
       "4   Male              Human       bad    No Hair      blue    Unknown   \n",
       "\n",
       "      hero_names          publisher    Height    Weight  \n",
       "0         A-Bomb      Marvel Comics  203.0 cm  441.0 kg  \n",
       "1     Abe Sapien  Dark Horse Comics  191.0 cm   65.0 kg  \n",
       "2       Abin Sur          DC Comics  185.0 cm   90.0 kg  \n",
       "3    Abomination      Marvel Comics  203.0 cm  441.0 kg  \n",
       "4  Absorbing Man      Marvel Comics  193.0 cm  122.0 kg  "
      ]
     },
     "execution_count": 61,
     "metadata": {},
     "output_type": "execute_result"
    }
   ],
   "source": [
    "super_info = super_info.drop(columns=['Measurements'])\n",
    "super_info.head()"
   ]
  },
  {
   "cell_type": "code",
   "execution_count": 65,
   "id": "b5e22c04",
   "metadata": {},
   "outputs": [],
   "source": [
    "super_info[['Height (in CM)','cm']] = super_info['Height'].str.split(' ',expand=True)\n",
    "super_info[['Weight (in KG)','kg']] = super_info['Weight'].str.split(' ',expand=True)"
   ]
  },
  {
   "cell_type": "code",
   "execution_count": 67,
   "id": "eac9932e",
   "metadata": {},
   "outputs": [],
   "source": [
    "super_info = super_info.drop(columns=['Height', 'Weight', 'cm', 'kg'])"
   ]
  },
  {
   "cell_type": "code",
   "execution_count": 68,
   "id": "938ade6f",
   "metadata": {},
   "outputs": [],
   "source": [
    "super_info['Height (in CM)'] = super_info['Height (in CM)'].astype(float)\n",
    "super_info['Weight (in KG)'] = super_info['Weight (in KG)'].astype(float)"
   ]
  },
  {
   "cell_type": "markdown",
   "id": "0d4d9852",
   "metadata": {},
   "source": [
    "# SuperHero Powers"
   ]
  },
  {
   "cell_type": "code",
   "execution_count": 69,
   "id": "2374d981",
   "metadata": {},
   "outputs": [
    {
     "data": {
      "text/html": [
       "<div>\n",
       "<style scoped>\n",
       "    .dataframe tbody tr th:only-of-type {\n",
       "        vertical-align: middle;\n",
       "    }\n",
       "\n",
       "    .dataframe tbody tr th {\n",
       "        vertical-align: top;\n",
       "    }\n",
       "\n",
       "    .dataframe thead th {\n",
       "        text-align: right;\n",
       "    }\n",
       "</style>\n",
       "<table border=\"1\" class=\"dataframe\">\n",
       "  <thead>\n",
       "    <tr style=\"text-align: right;\">\n",
       "      <th></th>\n",
       "      <th>hero_names</th>\n",
       "      <th>Powers</th>\n",
       "    </tr>\n",
       "  </thead>\n",
       "  <tbody>\n",
       "    <tr>\n",
       "      <th>0</th>\n",
       "      <td>3-D Man</td>\n",
       "      <td>Agility,Super Strength,Stamina,Super Speed</td>\n",
       "    </tr>\n",
       "    <tr>\n",
       "      <th>1</th>\n",
       "      <td>A-Bomb</td>\n",
       "      <td>Accelerated Healing,Durability,Longevity,Super...</td>\n",
       "    </tr>\n",
       "    <tr>\n",
       "      <th>2</th>\n",
       "      <td>Abe Sapien</td>\n",
       "      <td>Agility,Accelerated Healing,Cold Resistance,Du...</td>\n",
       "    </tr>\n",
       "    <tr>\n",
       "      <th>3</th>\n",
       "      <td>Abin Sur</td>\n",
       "      <td>Lantern Power Ring</td>\n",
       "    </tr>\n",
       "    <tr>\n",
       "      <th>4</th>\n",
       "      <td>Abomination</td>\n",
       "      <td>Accelerated Healing,Intelligence,Super Strengt...</td>\n",
       "    </tr>\n",
       "  </tbody>\n",
       "</table>\n",
       "</div>"
      ],
      "text/plain": [
       "    hero_names                                             Powers\n",
       "0      3-D Man         Agility,Super Strength,Stamina,Super Speed\n",
       "1       A-Bomb  Accelerated Healing,Durability,Longevity,Super...\n",
       "2   Abe Sapien  Agility,Accelerated Healing,Cold Resistance,Du...\n",
       "3     Abin Sur                                 Lantern Power Ring\n",
       "4  Abomination  Accelerated Healing,Intelligence,Super Strengt..."
      ]
     },
     "execution_count": 69,
     "metadata": {},
     "output_type": "execute_result"
    }
   ],
   "source": [
    "super_powers = pd.read_csv(r'C:\\Users\\Michael\\Downloads\\superhero_powers - superhero_powers.csv')\n",
    "df2 = super_powers.copy()\n",
    "super_powers.head()"
   ]
  },
  {
   "cell_type": "code",
   "execution_count": 70,
   "id": "09b5e2dd",
   "metadata": {},
   "outputs": [
    {
     "data": {
      "text/html": [
       "<div>\n",
       "<style scoped>\n",
       "    .dataframe tbody tr th:only-of-type {\n",
       "        vertical-align: middle;\n",
       "    }\n",
       "\n",
       "    .dataframe tbody tr th {\n",
       "        vertical-align: top;\n",
       "    }\n",
       "\n",
       "    .dataframe thead th {\n",
       "        text-align: right;\n",
       "    }\n",
       "</style>\n",
       "<table border=\"1\" class=\"dataframe\">\n",
       "  <thead>\n",
       "    <tr style=\"text-align: right;\">\n",
       "      <th></th>\n",
       "      <th>hero_names</th>\n",
       "      <th>Powers</th>\n",
       "      <th>Gender</th>\n",
       "      <th>Race</th>\n",
       "      <th>Alignment</th>\n",
       "      <th>Hair color</th>\n",
       "      <th>Eye color</th>\n",
       "      <th>Skin color</th>\n",
       "      <th>publisher</th>\n",
       "      <th>Height (in CM)</th>\n",
       "      <th>Weight (in KG)</th>\n",
       "    </tr>\n",
       "  </thead>\n",
       "  <tbody>\n",
       "    <tr>\n",
       "      <th>0</th>\n",
       "      <td>A-Bomb</td>\n",
       "      <td>Accelerated Healing,Durability,Longevity,Super...</td>\n",
       "      <td>Male</td>\n",
       "      <td>Human</td>\n",
       "      <td>good</td>\n",
       "      <td>No Hair</td>\n",
       "      <td>yellow</td>\n",
       "      <td>Unknown</td>\n",
       "      <td>Marvel Comics</td>\n",
       "      <td>203.0</td>\n",
       "      <td>441.0</td>\n",
       "    </tr>\n",
       "    <tr>\n",
       "      <th>1</th>\n",
       "      <td>Abe Sapien</td>\n",
       "      <td>Agility,Accelerated Healing,Cold Resistance,Du...</td>\n",
       "      <td>Male</td>\n",
       "      <td>Icthyo Sapien</td>\n",
       "      <td>good</td>\n",
       "      <td>No Hair</td>\n",
       "      <td>blue</td>\n",
       "      <td>blue</td>\n",
       "      <td>Dark Horse Comics</td>\n",
       "      <td>191.0</td>\n",
       "      <td>65.0</td>\n",
       "    </tr>\n",
       "    <tr>\n",
       "      <th>2</th>\n",
       "      <td>Abin Sur</td>\n",
       "      <td>Lantern Power Ring</td>\n",
       "      <td>Male</td>\n",
       "      <td>Ungaran</td>\n",
       "      <td>good</td>\n",
       "      <td>No Hair</td>\n",
       "      <td>blue</td>\n",
       "      <td>red</td>\n",
       "      <td>DC Comics</td>\n",
       "      <td>185.0</td>\n",
       "      <td>90.0</td>\n",
       "    </tr>\n",
       "    <tr>\n",
       "      <th>3</th>\n",
       "      <td>Abomination</td>\n",
       "      <td>Accelerated Healing,Intelligence,Super Strengt...</td>\n",
       "      <td>Male</td>\n",
       "      <td>Human / Radiation</td>\n",
       "      <td>bad</td>\n",
       "      <td>No Hair</td>\n",
       "      <td>green</td>\n",
       "      <td>Unknown</td>\n",
       "      <td>Marvel Comics</td>\n",
       "      <td>203.0</td>\n",
       "      <td>441.0</td>\n",
       "    </tr>\n",
       "    <tr>\n",
       "      <th>4</th>\n",
       "      <td>Absorbing Man</td>\n",
       "      <td>Cold Resistance,Durability,Energy Absorption,S...</td>\n",
       "      <td>Male</td>\n",
       "      <td>Human</td>\n",
       "      <td>bad</td>\n",
       "      <td>No Hair</td>\n",
       "      <td>blue</td>\n",
       "      <td>Unknown</td>\n",
       "      <td>Marvel Comics</td>\n",
       "      <td>193.0</td>\n",
       "      <td>122.0</td>\n",
       "    </tr>\n",
       "  </tbody>\n",
       "</table>\n",
       "</div>"
      ],
      "text/plain": [
       "      hero_names                                             Powers Gender  \\\n",
       "0         A-Bomb  Accelerated Healing,Durability,Longevity,Super...   Male   \n",
       "1     Abe Sapien  Agility,Accelerated Healing,Cold Resistance,Du...   Male   \n",
       "2       Abin Sur                                 Lantern Power Ring   Male   \n",
       "3    Abomination  Accelerated Healing,Intelligence,Super Strengt...   Male   \n",
       "4  Absorbing Man  Cold Resistance,Durability,Energy Absorption,S...   Male   \n",
       "\n",
       "                Race Alignment Hair color Eye color Skin color  \\\n",
       "0              Human      good    No Hair    yellow    Unknown   \n",
       "1      Icthyo Sapien      good    No Hair      blue       blue   \n",
       "2            Ungaran      good    No Hair      blue        red   \n",
       "3  Human / Radiation       bad    No Hair     green    Unknown   \n",
       "4              Human       bad    No Hair      blue    Unknown   \n",
       "\n",
       "           publisher  Height (in CM)  Weight (in KG)  \n",
       "0      Marvel Comics           203.0           441.0  \n",
       "1  Dark Horse Comics           191.0            65.0  \n",
       "2          DC Comics           185.0            90.0  \n",
       "3      Marvel Comics           203.0           441.0  \n",
       "4      Marvel Comics           193.0           122.0  "
      ]
     },
     "execution_count": 70,
     "metadata": {},
     "output_type": "execute_result"
    }
   ],
   "source": [
    "df = pd.merge(super_powers, super_info, how='inner', on = 'hero_names')\n",
    "df.head()"
   ]
  },
  {
   "cell_type": "code",
   "execution_count": 71,
   "id": "40677735",
   "metadata": {},
   "outputs": [
    {
     "data": {
      "text/plain": [
       "hero_names    0\n",
       "Powers        0\n",
       "dtype: int64"
      ]
     },
     "execution_count": 71,
     "metadata": {},
     "output_type": "execute_result"
    }
   ],
   "source": [
    "super_powers.isna().sum()"
   ]
  },
  {
   "cell_type": "code",
   "execution_count": 72,
   "id": "a6a0f77b",
   "metadata": {},
   "outputs": [],
   "source": [
    "df_powers = df[\"Powers\"].str.split(\",\")"
   ]
  },
  {
   "cell_type": "code",
   "execution_count": 73,
   "id": "51977ba2",
   "metadata": {},
   "outputs": [
    {
     "data": {
      "text/plain": [
       "0    Accelerated Healing\n",
       "1             Durability\n",
       "2              Longevity\n",
       "3         Super Strength\n",
       "4                Stamina\n",
       "Name: Powers, dtype: object"
      ]
     },
     "execution_count": 73,
     "metadata": {},
     "output_type": "execute_result"
    }
   ],
   "source": [
    "explode = df_powers.explode(\"Powers\")\n",
    "explode.head()"
   ]
  },
  {
   "cell_type": "code",
   "execution_count": 74,
   "id": "cc5c1ddb",
   "metadata": {},
   "outputs": [
    {
     "data": {
      "text/plain": [
       "array(['Accelerated Healing', 'Durability', 'Longevity', 'Super Strength',\n",
       "       'Stamina', 'Camouflage', 'Self-Sustenance', 'Agility',\n",
       "       'Cold Resistance', 'Underwater breathing', 'Marksmanship',\n",
       "       'Weapons Master', 'Intelligence', 'Telepathy', 'Immortality',\n",
       "       'Reflexes', 'Enhanced Sight', 'Sub-Mariner', 'Lantern Power Ring',\n",
       "       'Super Speed', 'Invulnerability', 'Animation', 'Super Breath',\n",
       "       'Energy Absorption', 'Elemental Transmogrification',\n",
       "       'Fire Resistance', 'Natural Armor', 'Molecular Manipulation',\n",
       "       'Heat Resistance', 'Matter Absorption', 'Stealth', 'Flight',\n",
       "       'Power Suit', 'Energy Blasts', 'Energy Beams', 'Power Cosmic',\n",
       "       'Heat Generation', 'Danger Sense', 'Teleportation', 'Phasing',\n",
       "       'Force Fields', 'Hypnokinesis', 'Energy Manipulation',\n",
       "       'Invisibility', 'Enhanced Senses', 'Jump', 'Substance Secretion',\n",
       "       'Natural Weapons', 'Wallcrawling', 'Vision - Thermal',\n",
       "       'Power Augmentation', 'Cryokinesis', 'Duplication',\n",
       "       'Size Changing', 'Weapon-based Powers', 'Shapeshifting',\n",
       "       'Fire Control', 'Enhanced Memory', 'Energy Constructs',\n",
       "       'Power Absorption', 'Enhanced Hearing', 'Time Travel',\n",
       "       'Enhanced Smell', 'Water Control', 'Vision - Telescopic',\n",
       "       'Magnetism', 'Vision - Microscopic', 'Vision - Night',\n",
       "       'Vision - Heat', 'Vision - X-Ray', 'Magic', 'Psionic Powers',\n",
       "       'Gliding', 'Toxin and Disease Resistance', 'Animal Attributes',\n",
       "       'Animal Oriented Powers', 'Regeneration',\n",
       "       'Toxin and Disease Control', 'Empathy', 'Animal Control',\n",
       "       'Elasticity', 'Web Creation', 'Symbiote Costume', 'Telekinesis',\n",
       "       'Levitation', 'Biokinesis', 'Sonar', 'Enhanced Touch',\n",
       "       'Seismic Power', 'Energy Armor', 'Radiation Immunity',\n",
       "       'Density Control', 'Light Control', 'Illumination',\n",
       "       'Molecular Combustion', 'Dimensional Travel', 'Audio Control',\n",
       "       'Sonic Scream', 'Peak Human Condition', 'Vision - Infrared',\n",
       "       'Dexterity', 'Energy Resistance', 'Vision - Cryo', 'Clairvoyance',\n",
       "       'Probability Manipulation', 'Electrokinesis',\n",
       "       'Darkforce Manipulation', 'Illusions', 'Death Touch',\n",
       "       'Gravity Control', 'Precognition', 'Time Manipulation',\n",
       "       'Omnilingualism', 'Astral Projection', 'Technopath/Cyberpath',\n",
       "       'Mind Control', 'Mind Blast', 'Cloaking', 'Telepathy Resistance',\n",
       "       'Mind Control Resistance', 'Radiation Control',\n",
       "       'Radiation Absorption', 'Magic Resistance',\n",
       "       'Dimensional Awareness', 'Intangibility', 'Element Control',\n",
       "       'Wind Control', 'Echolocation', 'Radar Sense', 'Resurrection',\n",
       "       'The Force', 'Possession', 'Astral Travel', 'Summoning', 'Banish',\n",
       "       'Adaptation', 'Electrical Transport', 'Speed Force', 'Omnipotent',\n",
       "       'Grim Reaping', 'Reality Warping', 'Portal Creation',\n",
       "       'Vitakinesis', 'Projection', 'Insanity', 'Plant Control',\n",
       "       'Photographic Reflexes', 'Anti-Gravity', 'Power Nullifier',\n",
       "       'Hair Manipulation', 'Weather Control', 'Nova Force', 'Odin Force',\n",
       "       'Phoenix Force', 'Power Sense', 'Qwardian Power Ring', 'Melting',\n",
       "       'Changing Armor', 'Terrakinesis'], dtype=object)"
      ]
     },
     "execution_count": 74,
     "metadata": {},
     "output_type": "execute_result"
    }
   ],
   "source": [
    "cols_to_make = explode.dropna().unique()\n",
    "cols_to_make"
   ]
  },
  {
   "cell_type": "code",
   "execution_count": 75,
   "id": "4910810f",
   "metadata": {},
   "outputs": [
    {
     "data": {
      "text/plain": [
       "array(['Accelerated Healing', 'Durability', 'Longevity', 'Super Strength',\n",
       "       'Stamina', 'Camouflage', 'Self-Sustenance', 'Agility',\n",
       "       'Cold Resistance', 'Underwater breathing', 'Marksmanship',\n",
       "       'Weapons Master', 'Intelligence', 'Telepathy', 'Immortality',\n",
       "       'Reflexes', 'Enhanced Sight', 'Sub-Mariner', 'Lantern Power Ring',\n",
       "       'Super Speed', 'Invulnerability', 'Animation', 'Super Breath',\n",
       "       'Energy Absorption', 'Elemental Transmogrification',\n",
       "       'Fire Resistance', 'Natural Armor', 'Molecular Manipulation',\n",
       "       'Heat Resistance', 'Matter Absorption', 'Stealth', 'Flight',\n",
       "       'Power Suit', 'Energy Blasts', 'Energy Beams', 'Power Cosmic',\n",
       "       'Heat Generation', 'Danger Sense', 'Teleportation', 'Phasing',\n",
       "       'Force Fields', 'Hypnokinesis', 'Energy Manipulation',\n",
       "       'Invisibility', 'Enhanced Senses', 'Jump', 'Substance Secretion',\n",
       "       'Natural Weapons', 'Wallcrawling', 'Vision - Thermal',\n",
       "       'Power Augmentation', 'Cryokinesis', 'Duplication',\n",
       "       'Size Changing', 'Weapon-based Powers', 'Shapeshifting',\n",
       "       'Fire Control', 'Enhanced Memory', 'Energy Constructs',\n",
       "       'Power Absorption', 'Enhanced Hearing', 'Time Travel',\n",
       "       'Enhanced Smell', 'Water Control', 'Vision - Telescopic',\n",
       "       'Magnetism', 'Vision - Microscopic', 'Vision - Night',\n",
       "       'Vision - Heat', 'Vision - X-Ray', 'Magic', 'Psionic Powers',\n",
       "       'Gliding', 'Toxin and Disease Resistance', 'Animal Attributes',\n",
       "       'Animal Oriented Powers', 'Regeneration',\n",
       "       'Toxin and Disease Control', 'Empathy', 'Animal Control',\n",
       "       'Elasticity', 'Web Creation', 'Symbiote Costume', 'Telekinesis',\n",
       "       'Levitation', 'Biokinesis', 'Sonar', 'Enhanced Touch',\n",
       "       'Seismic Power', 'Energy Armor', 'Radiation Immunity',\n",
       "       'Density Control', 'Light Control', 'Illumination',\n",
       "       'Molecular Combustion', 'Dimensional Travel', 'Audio Control',\n",
       "       'Sonic Scream', 'Peak Human Condition', 'Vision - Infrared',\n",
       "       'Dexterity', 'Energy Resistance', 'Vision - Cryo', 'Clairvoyance',\n",
       "       'Probability Manipulation', 'Electrokinesis',\n",
       "       'Darkforce Manipulation', 'Illusions', 'Death Touch',\n",
       "       'Gravity Control', 'Precognition', 'Time Manipulation',\n",
       "       'Omnilingualism', 'Astral Projection', 'Technopath/Cyberpath',\n",
       "       'Mind Control', 'Mind Blast', 'Cloaking', 'Telepathy Resistance',\n",
       "       'Mind Control Resistance', 'Radiation Control',\n",
       "       'Radiation Absorption', 'Magic Resistance',\n",
       "       'Dimensional Awareness', 'Intangibility', 'Element Control',\n",
       "       'Wind Control', 'Echolocation', 'Radar Sense', 'Resurrection',\n",
       "       'The Force', 'Possession', 'Astral Travel', 'Summoning', 'Banish',\n",
       "       'Adaptation', 'Electrical Transport', 'Speed Force', 'Omnipotent',\n",
       "       'Grim Reaping', 'Reality Warping', 'Portal Creation',\n",
       "       'Vitakinesis', 'Projection', 'Insanity', 'Plant Control',\n",
       "       'Photographic Reflexes', 'Anti-Gravity', 'Power Nullifier',\n",
       "       'Hair Manipulation', 'Weather Control', 'Nova Force', 'Odin Force',\n",
       "       'Phoenix Force', 'Power Sense', 'Qwardian Power Ring', 'Melting',\n",
       "       'Changing Armor', 'Terrakinesis'], dtype=object)"
      ]
     },
     "execution_count": 75,
     "metadata": {},
     "output_type": "execute_result"
    }
   ],
   "source": [
    "cols_to_make = explode.dropna().unique()\n",
    "cols_to_make"
   ]
  },
  {
   "cell_type": "code",
   "execution_count": 76,
   "id": "1ada5de3",
   "metadata": {},
   "outputs": [
    {
     "name": "stderr",
     "output_type": "stream",
     "text": [
      "C:\\Users\\Michael\\AppData\\Local\\Temp\\ipykernel_27248\\3176564280.py:2: PerformanceWarning: DataFrame is highly fragmented.  This is usually the result of calling `frame.insert` many times, which has poor performance.  Consider joining all columns at once using pd.concat(axis=1) instead. To get a de-fragmented frame, use `newframe = frame.copy()`\n",
      "  df[col] = df[\"Powers\"].str.contains(col)\n",
      "C:\\Users\\Michael\\AppData\\Local\\Temp\\ipykernel_27248\\3176564280.py:2: PerformanceWarning: DataFrame is highly fragmented.  This is usually the result of calling `frame.insert` many times, which has poor performance.  Consider joining all columns at once using pd.concat(axis=1) instead. To get a de-fragmented frame, use `newframe = frame.copy()`\n",
      "  df[col] = df[\"Powers\"].str.contains(col)\n",
      "C:\\Users\\Michael\\AppData\\Local\\Temp\\ipykernel_27248\\3176564280.py:2: PerformanceWarning: DataFrame is highly fragmented.  This is usually the result of calling `frame.insert` many times, which has poor performance.  Consider joining all columns at once using pd.concat(axis=1) instead. To get a de-fragmented frame, use `newframe = frame.copy()`\n",
      "  df[col] = df[\"Powers\"].str.contains(col)\n",
      "C:\\Users\\Michael\\AppData\\Local\\Temp\\ipykernel_27248\\3176564280.py:2: PerformanceWarning: DataFrame is highly fragmented.  This is usually the result of calling `frame.insert` many times, which has poor performance.  Consider joining all columns at once using pd.concat(axis=1) instead. To get a de-fragmented frame, use `newframe = frame.copy()`\n",
      "  df[col] = df[\"Powers\"].str.contains(col)\n",
      "C:\\Users\\Michael\\AppData\\Local\\Temp\\ipykernel_27248\\3176564280.py:2: PerformanceWarning: DataFrame is highly fragmented.  This is usually the result of calling `frame.insert` many times, which has poor performance.  Consider joining all columns at once using pd.concat(axis=1) instead. To get a de-fragmented frame, use `newframe = frame.copy()`\n",
      "  df[col] = df[\"Powers\"].str.contains(col)\n",
      "C:\\Users\\Michael\\AppData\\Local\\Temp\\ipykernel_27248\\3176564280.py:2: PerformanceWarning: DataFrame is highly fragmented.  This is usually the result of calling `frame.insert` many times, which has poor performance.  Consider joining all columns at once using pd.concat(axis=1) instead. To get a de-fragmented frame, use `newframe = frame.copy()`\n",
      "  df[col] = df[\"Powers\"].str.contains(col)\n",
      "C:\\Users\\Michael\\AppData\\Local\\Temp\\ipykernel_27248\\3176564280.py:2: PerformanceWarning: DataFrame is highly fragmented.  This is usually the result of calling `frame.insert` many times, which has poor performance.  Consider joining all columns at once using pd.concat(axis=1) instead. To get a de-fragmented frame, use `newframe = frame.copy()`\n",
      "  df[col] = df[\"Powers\"].str.contains(col)\n",
      "C:\\Users\\Michael\\AppData\\Local\\Temp\\ipykernel_27248\\3176564280.py:2: PerformanceWarning: DataFrame is highly fragmented.  This is usually the result of calling `frame.insert` many times, which has poor performance.  Consider joining all columns at once using pd.concat(axis=1) instead. To get a de-fragmented frame, use `newframe = frame.copy()`\n",
      "  df[col] = df[\"Powers\"].str.contains(col)\n",
      "C:\\Users\\Michael\\AppData\\Local\\Temp\\ipykernel_27248\\3176564280.py:2: PerformanceWarning: DataFrame is highly fragmented.  This is usually the result of calling `frame.insert` many times, which has poor performance.  Consider joining all columns at once using pd.concat(axis=1) instead. To get a de-fragmented frame, use `newframe = frame.copy()`\n",
      "  df[col] = df[\"Powers\"].str.contains(col)\n",
      "C:\\Users\\Michael\\AppData\\Local\\Temp\\ipykernel_27248\\3176564280.py:2: PerformanceWarning: DataFrame is highly fragmented.  This is usually the result of calling `frame.insert` many times, which has poor performance.  Consider joining all columns at once using pd.concat(axis=1) instead. To get a de-fragmented frame, use `newframe = frame.copy()`\n",
      "  df[col] = df[\"Powers\"].str.contains(col)\n",
      "C:\\Users\\Michael\\AppData\\Local\\Temp\\ipykernel_27248\\3176564280.py:2: PerformanceWarning: DataFrame is highly fragmented.  This is usually the result of calling `frame.insert` many times, which has poor performance.  Consider joining all columns at once using pd.concat(axis=1) instead. To get a de-fragmented frame, use `newframe = frame.copy()`\n",
      "  df[col] = df[\"Powers\"].str.contains(col)\n",
      "C:\\Users\\Michael\\AppData\\Local\\Temp\\ipykernel_27248\\3176564280.py:2: PerformanceWarning: DataFrame is highly fragmented.  This is usually the result of calling `frame.insert` many times, which has poor performance.  Consider joining all columns at once using pd.concat(axis=1) instead. To get a de-fragmented frame, use `newframe = frame.copy()`\n",
      "  df[col] = df[\"Powers\"].str.contains(col)\n",
      "C:\\Users\\Michael\\AppData\\Local\\Temp\\ipykernel_27248\\3176564280.py:2: PerformanceWarning: DataFrame is highly fragmented.  This is usually the result of calling `frame.insert` many times, which has poor performance.  Consider joining all columns at once using pd.concat(axis=1) instead. To get a de-fragmented frame, use `newframe = frame.copy()`\n",
      "  df[col] = df[\"Powers\"].str.contains(col)\n",
      "C:\\Users\\Michael\\AppData\\Local\\Temp\\ipykernel_27248\\3176564280.py:2: PerformanceWarning: DataFrame is highly fragmented.  This is usually the result of calling `frame.insert` many times, which has poor performance.  Consider joining all columns at once using pd.concat(axis=1) instead. To get a de-fragmented frame, use `newframe = frame.copy()`\n",
      "  df[col] = df[\"Powers\"].str.contains(col)\n",
      "C:\\Users\\Michael\\AppData\\Local\\Temp\\ipykernel_27248\\3176564280.py:2: PerformanceWarning: DataFrame is highly fragmented.  This is usually the result of calling `frame.insert` many times, which has poor performance.  Consider joining all columns at once using pd.concat(axis=1) instead. To get a de-fragmented frame, use `newframe = frame.copy()`\n",
      "  df[col] = df[\"Powers\"].str.contains(col)\n",
      "C:\\Users\\Michael\\AppData\\Local\\Temp\\ipykernel_27248\\3176564280.py:2: PerformanceWarning: DataFrame is highly fragmented.  This is usually the result of calling `frame.insert` many times, which has poor performance.  Consider joining all columns at once using pd.concat(axis=1) instead. To get a de-fragmented frame, use `newframe = frame.copy()`\n",
      "  df[col] = df[\"Powers\"].str.contains(col)\n",
      "C:\\Users\\Michael\\AppData\\Local\\Temp\\ipykernel_27248\\3176564280.py:2: PerformanceWarning: DataFrame is highly fragmented.  This is usually the result of calling `frame.insert` many times, which has poor performance.  Consider joining all columns at once using pd.concat(axis=1) instead. To get a de-fragmented frame, use `newframe = frame.copy()`\n",
      "  df[col] = df[\"Powers\"].str.contains(col)\n",
      "C:\\Users\\Michael\\AppData\\Local\\Temp\\ipykernel_27248\\3176564280.py:2: PerformanceWarning: DataFrame is highly fragmented.  This is usually the result of calling `frame.insert` many times, which has poor performance.  Consider joining all columns at once using pd.concat(axis=1) instead. To get a de-fragmented frame, use `newframe = frame.copy()`\n",
      "  df[col] = df[\"Powers\"].str.contains(col)\n",
      "C:\\Users\\Michael\\AppData\\Local\\Temp\\ipykernel_27248\\3176564280.py:2: PerformanceWarning: DataFrame is highly fragmented.  This is usually the result of calling `frame.insert` many times, which has poor performance.  Consider joining all columns at once using pd.concat(axis=1) instead. To get a de-fragmented frame, use `newframe = frame.copy()`\n",
      "  df[col] = df[\"Powers\"].str.contains(col)\n",
      "C:\\Users\\Michael\\AppData\\Local\\Temp\\ipykernel_27248\\3176564280.py:2: PerformanceWarning: DataFrame is highly fragmented.  This is usually the result of calling `frame.insert` many times, which has poor performance.  Consider joining all columns at once using pd.concat(axis=1) instead. To get a de-fragmented frame, use `newframe = frame.copy()`\n",
      "  df[col] = df[\"Powers\"].str.contains(col)\n",
      "C:\\Users\\Michael\\AppData\\Local\\Temp\\ipykernel_27248\\3176564280.py:2: PerformanceWarning: DataFrame is highly fragmented.  This is usually the result of calling `frame.insert` many times, which has poor performance.  Consider joining all columns at once using pd.concat(axis=1) instead. To get a de-fragmented frame, use `newframe = frame.copy()`\n",
      "  df[col] = df[\"Powers\"].str.contains(col)\n",
      "C:\\Users\\Michael\\AppData\\Local\\Temp\\ipykernel_27248\\3176564280.py:2: PerformanceWarning: DataFrame is highly fragmented.  This is usually the result of calling `frame.insert` many times, which has poor performance.  Consider joining all columns at once using pd.concat(axis=1) instead. To get a de-fragmented frame, use `newframe = frame.copy()`\n",
      "  df[col] = df[\"Powers\"].str.contains(col)\n",
      "C:\\Users\\Michael\\AppData\\Local\\Temp\\ipykernel_27248\\3176564280.py:2: PerformanceWarning: DataFrame is highly fragmented.  This is usually the result of calling `frame.insert` many times, which has poor performance.  Consider joining all columns at once using pd.concat(axis=1) instead. To get a de-fragmented frame, use `newframe = frame.copy()`\n",
      "  df[col] = df[\"Powers\"].str.contains(col)\n",
      "C:\\Users\\Michael\\AppData\\Local\\Temp\\ipykernel_27248\\3176564280.py:2: PerformanceWarning: DataFrame is highly fragmented.  This is usually the result of calling `frame.insert` many times, which has poor performance.  Consider joining all columns at once using pd.concat(axis=1) instead. To get a de-fragmented frame, use `newframe = frame.copy()`\n",
      "  df[col] = df[\"Powers\"].str.contains(col)\n",
      "C:\\Users\\Michael\\AppData\\Local\\Temp\\ipykernel_27248\\3176564280.py:2: PerformanceWarning: DataFrame is highly fragmented.  This is usually the result of calling `frame.insert` many times, which has poor performance.  Consider joining all columns at once using pd.concat(axis=1) instead. To get a de-fragmented frame, use `newframe = frame.copy()`\n",
      "  df[col] = df[\"Powers\"].str.contains(col)\n",
      "C:\\Users\\Michael\\AppData\\Local\\Temp\\ipykernel_27248\\3176564280.py:2: PerformanceWarning: DataFrame is highly fragmented.  This is usually the result of calling `frame.insert` many times, which has poor performance.  Consider joining all columns at once using pd.concat(axis=1) instead. To get a de-fragmented frame, use `newframe = frame.copy()`\n",
      "  df[col] = df[\"Powers\"].str.contains(col)\n",
      "C:\\Users\\Michael\\AppData\\Local\\Temp\\ipykernel_27248\\3176564280.py:2: PerformanceWarning: DataFrame is highly fragmented.  This is usually the result of calling `frame.insert` many times, which has poor performance.  Consider joining all columns at once using pd.concat(axis=1) instead. To get a de-fragmented frame, use `newframe = frame.copy()`\n",
      "  df[col] = df[\"Powers\"].str.contains(col)\n",
      "C:\\Users\\Michael\\AppData\\Local\\Temp\\ipykernel_27248\\3176564280.py:2: PerformanceWarning: DataFrame is highly fragmented.  This is usually the result of calling `frame.insert` many times, which has poor performance.  Consider joining all columns at once using pd.concat(axis=1) instead. To get a de-fragmented frame, use `newframe = frame.copy()`\n",
      "  df[col] = df[\"Powers\"].str.contains(col)\n",
      "C:\\Users\\Michael\\AppData\\Local\\Temp\\ipykernel_27248\\3176564280.py:2: PerformanceWarning: DataFrame is highly fragmented.  This is usually the result of calling `frame.insert` many times, which has poor performance.  Consider joining all columns at once using pd.concat(axis=1) instead. To get a de-fragmented frame, use `newframe = frame.copy()`\n",
      "  df[col] = df[\"Powers\"].str.contains(col)\n",
      "C:\\Users\\Michael\\AppData\\Local\\Temp\\ipykernel_27248\\3176564280.py:2: PerformanceWarning: DataFrame is highly fragmented.  This is usually the result of calling `frame.insert` many times, which has poor performance.  Consider joining all columns at once using pd.concat(axis=1) instead. To get a de-fragmented frame, use `newframe = frame.copy()`\n",
      "  df[col] = df[\"Powers\"].str.contains(col)\n",
      "C:\\Users\\Michael\\AppData\\Local\\Temp\\ipykernel_27248\\3176564280.py:2: PerformanceWarning: DataFrame is highly fragmented.  This is usually the result of calling `frame.insert` many times, which has poor performance.  Consider joining all columns at once using pd.concat(axis=1) instead. To get a de-fragmented frame, use `newframe = frame.copy()`\n",
      "  df[col] = df[\"Powers\"].str.contains(col)\n",
      "C:\\Users\\Michael\\AppData\\Local\\Temp\\ipykernel_27248\\3176564280.py:2: PerformanceWarning: DataFrame is highly fragmented.  This is usually the result of calling `frame.insert` many times, which has poor performance.  Consider joining all columns at once using pd.concat(axis=1) instead. To get a de-fragmented frame, use `newframe = frame.copy()`\n",
      "  df[col] = df[\"Powers\"].str.contains(col)\n",
      "C:\\Users\\Michael\\AppData\\Local\\Temp\\ipykernel_27248\\3176564280.py:2: PerformanceWarning: DataFrame is highly fragmented.  This is usually the result of calling `frame.insert` many times, which has poor performance.  Consider joining all columns at once using pd.concat(axis=1) instead. To get a de-fragmented frame, use `newframe = frame.copy()`\n",
      "  df[col] = df[\"Powers\"].str.contains(col)\n",
      "C:\\Users\\Michael\\AppData\\Local\\Temp\\ipykernel_27248\\3176564280.py:2: PerformanceWarning: DataFrame is highly fragmented.  This is usually the result of calling `frame.insert` many times, which has poor performance.  Consider joining all columns at once using pd.concat(axis=1) instead. To get a de-fragmented frame, use `newframe = frame.copy()`\n",
      "  df[col] = df[\"Powers\"].str.contains(col)\n",
      "C:\\Users\\Michael\\AppData\\Local\\Temp\\ipykernel_27248\\3176564280.py:2: PerformanceWarning: DataFrame is highly fragmented.  This is usually the result of calling `frame.insert` many times, which has poor performance.  Consider joining all columns at once using pd.concat(axis=1) instead. To get a de-fragmented frame, use `newframe = frame.copy()`\n",
      "  df[col] = df[\"Powers\"].str.contains(col)\n",
      "C:\\Users\\Michael\\AppData\\Local\\Temp\\ipykernel_27248\\3176564280.py:2: PerformanceWarning: DataFrame is highly fragmented.  This is usually the result of calling `frame.insert` many times, which has poor performance.  Consider joining all columns at once using pd.concat(axis=1) instead. To get a de-fragmented frame, use `newframe = frame.copy()`\n",
      "  df[col] = df[\"Powers\"].str.contains(col)\n",
      "C:\\Users\\Michael\\AppData\\Local\\Temp\\ipykernel_27248\\3176564280.py:2: PerformanceWarning: DataFrame is highly fragmented.  This is usually the result of calling `frame.insert` many times, which has poor performance.  Consider joining all columns at once using pd.concat(axis=1) instead. To get a de-fragmented frame, use `newframe = frame.copy()`\n",
      "  df[col] = df[\"Powers\"].str.contains(col)\n",
      "C:\\Users\\Michael\\AppData\\Local\\Temp\\ipykernel_27248\\3176564280.py:2: PerformanceWarning: DataFrame is highly fragmented.  This is usually the result of calling `frame.insert` many times, which has poor performance.  Consider joining all columns at once using pd.concat(axis=1) instead. To get a de-fragmented frame, use `newframe = frame.copy()`\n",
      "  df[col] = df[\"Powers\"].str.contains(col)\n",
      "C:\\Users\\Michael\\AppData\\Local\\Temp\\ipykernel_27248\\3176564280.py:2: PerformanceWarning: DataFrame is highly fragmented.  This is usually the result of calling `frame.insert` many times, which has poor performance.  Consider joining all columns at once using pd.concat(axis=1) instead. To get a de-fragmented frame, use `newframe = frame.copy()`\n",
      "  df[col] = df[\"Powers\"].str.contains(col)\n",
      "C:\\Users\\Michael\\AppData\\Local\\Temp\\ipykernel_27248\\3176564280.py:2: PerformanceWarning: DataFrame is highly fragmented.  This is usually the result of calling `frame.insert` many times, which has poor performance.  Consider joining all columns at once using pd.concat(axis=1) instead. To get a de-fragmented frame, use `newframe = frame.copy()`\n",
      "  df[col] = df[\"Powers\"].str.contains(col)\n",
      "C:\\Users\\Michael\\AppData\\Local\\Temp\\ipykernel_27248\\3176564280.py:2: PerformanceWarning: DataFrame is highly fragmented.  This is usually the result of calling `frame.insert` many times, which has poor performance.  Consider joining all columns at once using pd.concat(axis=1) instead. To get a de-fragmented frame, use `newframe = frame.copy()`\n",
      "  df[col] = df[\"Powers\"].str.contains(col)\n",
      "C:\\Users\\Michael\\AppData\\Local\\Temp\\ipykernel_27248\\3176564280.py:2: PerformanceWarning: DataFrame is highly fragmented.  This is usually the result of calling `frame.insert` many times, which has poor performance.  Consider joining all columns at once using pd.concat(axis=1) instead. To get a de-fragmented frame, use `newframe = frame.copy()`\n",
      "  df[col] = df[\"Powers\"].str.contains(col)\n",
      "C:\\Users\\Michael\\AppData\\Local\\Temp\\ipykernel_27248\\3176564280.py:2: PerformanceWarning: DataFrame is highly fragmented.  This is usually the result of calling `frame.insert` many times, which has poor performance.  Consider joining all columns at once using pd.concat(axis=1) instead. To get a de-fragmented frame, use `newframe = frame.copy()`\n",
      "  df[col] = df[\"Powers\"].str.contains(col)\n",
      "C:\\Users\\Michael\\AppData\\Local\\Temp\\ipykernel_27248\\3176564280.py:2: PerformanceWarning: DataFrame is highly fragmented.  This is usually the result of calling `frame.insert` many times, which has poor performance.  Consider joining all columns at once using pd.concat(axis=1) instead. To get a de-fragmented frame, use `newframe = frame.copy()`\n",
      "  df[col] = df[\"Powers\"].str.contains(col)\n",
      "C:\\Users\\Michael\\AppData\\Local\\Temp\\ipykernel_27248\\3176564280.py:2: PerformanceWarning: DataFrame is highly fragmented.  This is usually the result of calling `frame.insert` many times, which has poor performance.  Consider joining all columns at once using pd.concat(axis=1) instead. To get a de-fragmented frame, use `newframe = frame.copy()`\n",
      "  df[col] = df[\"Powers\"].str.contains(col)\n",
      "C:\\Users\\Michael\\AppData\\Local\\Temp\\ipykernel_27248\\3176564280.py:2: PerformanceWarning: DataFrame is highly fragmented.  This is usually the result of calling `frame.insert` many times, which has poor performance.  Consider joining all columns at once using pd.concat(axis=1) instead. To get a de-fragmented frame, use `newframe = frame.copy()`\n",
      "  df[col] = df[\"Powers\"].str.contains(col)\n",
      "C:\\Users\\Michael\\AppData\\Local\\Temp\\ipykernel_27248\\3176564280.py:2: PerformanceWarning: DataFrame is highly fragmented.  This is usually the result of calling `frame.insert` many times, which has poor performance.  Consider joining all columns at once using pd.concat(axis=1) instead. To get a de-fragmented frame, use `newframe = frame.copy()`\n",
      "  df[col] = df[\"Powers\"].str.contains(col)\n",
      "C:\\Users\\Michael\\AppData\\Local\\Temp\\ipykernel_27248\\3176564280.py:2: PerformanceWarning: DataFrame is highly fragmented.  This is usually the result of calling `frame.insert` many times, which has poor performance.  Consider joining all columns at once using pd.concat(axis=1) instead. To get a de-fragmented frame, use `newframe = frame.copy()`\n",
      "  df[col] = df[\"Powers\"].str.contains(col)\n",
      "C:\\Users\\Michael\\AppData\\Local\\Temp\\ipykernel_27248\\3176564280.py:2: PerformanceWarning: DataFrame is highly fragmented.  This is usually the result of calling `frame.insert` many times, which has poor performance.  Consider joining all columns at once using pd.concat(axis=1) instead. To get a de-fragmented frame, use `newframe = frame.copy()`\n",
      "  df[col] = df[\"Powers\"].str.contains(col)\n",
      "C:\\Users\\Michael\\AppData\\Local\\Temp\\ipykernel_27248\\3176564280.py:2: PerformanceWarning: DataFrame is highly fragmented.  This is usually the result of calling `frame.insert` many times, which has poor performance.  Consider joining all columns at once using pd.concat(axis=1) instead. To get a de-fragmented frame, use `newframe = frame.copy()`\n",
      "  df[col] = df[\"Powers\"].str.contains(col)\n",
      "C:\\Users\\Michael\\AppData\\Local\\Temp\\ipykernel_27248\\3176564280.py:2: PerformanceWarning: DataFrame is highly fragmented.  This is usually the result of calling `frame.insert` many times, which has poor performance.  Consider joining all columns at once using pd.concat(axis=1) instead. To get a de-fragmented frame, use `newframe = frame.copy()`\n",
      "  df[col] = df[\"Powers\"].str.contains(col)\n",
      "C:\\Users\\Michael\\AppData\\Local\\Temp\\ipykernel_27248\\3176564280.py:2: PerformanceWarning: DataFrame is highly fragmented.  This is usually the result of calling `frame.insert` many times, which has poor performance.  Consider joining all columns at once using pd.concat(axis=1) instead. To get a de-fragmented frame, use `newframe = frame.copy()`\n",
      "  df[col] = df[\"Powers\"].str.contains(col)\n",
      "C:\\Users\\Michael\\AppData\\Local\\Temp\\ipykernel_27248\\3176564280.py:2: PerformanceWarning: DataFrame is highly fragmented.  This is usually the result of calling `frame.insert` many times, which has poor performance.  Consider joining all columns at once using pd.concat(axis=1) instead. To get a de-fragmented frame, use `newframe = frame.copy()`\n",
      "  df[col] = df[\"Powers\"].str.contains(col)\n",
      "C:\\Users\\Michael\\AppData\\Local\\Temp\\ipykernel_27248\\3176564280.py:2: PerformanceWarning: DataFrame is highly fragmented.  This is usually the result of calling `frame.insert` many times, which has poor performance.  Consider joining all columns at once using pd.concat(axis=1) instead. To get a de-fragmented frame, use `newframe = frame.copy()`\n",
      "  df[col] = df[\"Powers\"].str.contains(col)\n",
      "C:\\Users\\Michael\\AppData\\Local\\Temp\\ipykernel_27248\\3176564280.py:2: PerformanceWarning: DataFrame is highly fragmented.  This is usually the result of calling `frame.insert` many times, which has poor performance.  Consider joining all columns at once using pd.concat(axis=1) instead. To get a de-fragmented frame, use `newframe = frame.copy()`\n",
      "  df[col] = df[\"Powers\"].str.contains(col)\n",
      "C:\\Users\\Michael\\AppData\\Local\\Temp\\ipykernel_27248\\3176564280.py:2: PerformanceWarning: DataFrame is highly fragmented.  This is usually the result of calling `frame.insert` many times, which has poor performance.  Consider joining all columns at once using pd.concat(axis=1) instead. To get a de-fragmented frame, use `newframe = frame.copy()`\n",
      "  df[col] = df[\"Powers\"].str.contains(col)\n",
      "C:\\Users\\Michael\\AppData\\Local\\Temp\\ipykernel_27248\\3176564280.py:2: PerformanceWarning: DataFrame is highly fragmented.  This is usually the result of calling `frame.insert` many times, which has poor performance.  Consider joining all columns at once using pd.concat(axis=1) instead. To get a de-fragmented frame, use `newframe = frame.copy()`\n",
      "  df[col] = df[\"Powers\"].str.contains(col)\n",
      "C:\\Users\\Michael\\AppData\\Local\\Temp\\ipykernel_27248\\3176564280.py:2: PerformanceWarning: DataFrame is highly fragmented.  This is usually the result of calling `frame.insert` many times, which has poor performance.  Consider joining all columns at once using pd.concat(axis=1) instead. To get a de-fragmented frame, use `newframe = frame.copy()`\n",
      "  df[col] = df[\"Powers\"].str.contains(col)\n",
      "C:\\Users\\Michael\\AppData\\Local\\Temp\\ipykernel_27248\\3176564280.py:2: PerformanceWarning: DataFrame is highly fragmented.  This is usually the result of calling `frame.insert` many times, which has poor performance.  Consider joining all columns at once using pd.concat(axis=1) instead. To get a de-fragmented frame, use `newframe = frame.copy()`\n",
      "  df[col] = df[\"Powers\"].str.contains(col)\n",
      "C:\\Users\\Michael\\AppData\\Local\\Temp\\ipykernel_27248\\3176564280.py:2: PerformanceWarning: DataFrame is highly fragmented.  This is usually the result of calling `frame.insert` many times, which has poor performance.  Consider joining all columns at once using pd.concat(axis=1) instead. To get a de-fragmented frame, use `newframe = frame.copy()`\n",
      "  df[col] = df[\"Powers\"].str.contains(col)\n",
      "C:\\Users\\Michael\\AppData\\Local\\Temp\\ipykernel_27248\\3176564280.py:2: PerformanceWarning: DataFrame is highly fragmented.  This is usually the result of calling `frame.insert` many times, which has poor performance.  Consider joining all columns at once using pd.concat(axis=1) instead. To get a de-fragmented frame, use `newframe = frame.copy()`\n",
      "  df[col] = df[\"Powers\"].str.contains(col)\n",
      "C:\\Users\\Michael\\AppData\\Local\\Temp\\ipykernel_27248\\3176564280.py:2: PerformanceWarning: DataFrame is highly fragmented.  This is usually the result of calling `frame.insert` many times, which has poor performance.  Consider joining all columns at once using pd.concat(axis=1) instead. To get a de-fragmented frame, use `newframe = frame.copy()`\n",
      "  df[col] = df[\"Powers\"].str.contains(col)\n"
     ]
    }
   ],
   "source": [
    "for col in cols_to_make:\n",
    "    df[col] = df[\"Powers\"].str.contains(col)"
   ]
  },
  {
   "cell_type": "markdown",
   "id": "2754d1ba",
   "metadata": {},
   "source": [
    "# Compare the average weight of super powers who have Super Speed to those who do not."
   ]
  },
  {
   "cell_type": "code",
   "execution_count": 78,
   "id": "cc1ecf1f",
   "metadata": {},
   "outputs": [
    {
     "data": {
      "text/plain": [
       "Super Speed\n",
       "False    101.8\n",
       "True     129.4\n",
       "Name: Weight (in KG), dtype: float64"
      ]
     },
     "execution_count": 78,
     "metadata": {},
     "output_type": "execute_result"
    }
   ],
   "source": [
    "df_weight = round(df.groupby(\"Super Speed\")[\"Weight (in KG)\"].mean(),1)\n",
    "df_weight"
   ]
  },
  {
   "cell_type": "markdown",
   "id": "b9c6ce74",
   "metadata": {},
   "source": [
    "# What is the average height of heroes for each publisher?"
   ]
  },
  {
   "cell_type": "code",
   "execution_count": 80,
   "id": "64d367b5",
   "metadata": {},
   "outputs": [
    {
     "data": {
      "text/plain": [
       "publisher\n",
       "DC Comics            181.9\n",
       "Dark Horse Comics    176.9\n",
       "George Lucas         159.6\n",
       "Image Comics         211.0\n",
       "Marvel Comics        191.5\n",
       "Shueisha             171.5\n",
       "Star Trek            181.5\n",
       "Team Epic TV         180.8\n",
       "Unknown              178.0\n",
       "Name: Height (in CM), dtype: float64"
      ]
     },
     "execution_count": 80,
     "metadata": {},
     "output_type": "execute_result"
    }
   ],
   "source": [
    "df_height = round(df.groupby(\"publisher\")[\"Height (in CM)\"].mean(),1)\n",
    "df_height"
   ]
  },
  {
   "cell_type": "code",
   "execution_count": null,
   "id": "4a696d55",
   "metadata": {},
   "outputs": [],
   "source": []
  }
 ],
 "metadata": {
  "kernelspec": {
   "display_name": "Python (dojo-env)",
   "language": "python",
   "name": "dojo-env"
  },
  "language_info": {
   "codemirror_mode": {
    "name": "ipython",
    "version": 3
   },
   "file_extension": ".py",
   "mimetype": "text/x-python",
   "name": "python",
   "nbconvert_exporter": "python",
   "pygments_lexer": "ipython3",
   "version": "3.9.15"
  }
 },
 "nbformat": 4,
 "nbformat_minor": 5
}
